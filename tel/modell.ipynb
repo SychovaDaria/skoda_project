{
 "cells": [
  {
   "cell_type": "code",
   "execution_count": 13,
   "id": "97e49e37-602a-4524-b8bd-4f44e893735e",
   "metadata": {},
   "outputs": [],
   "source": [
    "\n",
    "import os\n",
    "from sklearn.model_selection import train_test_split\n",
    "import torch\n",
    "import torch.nn as nn\n",
    "import torch.optim as optim\n",
    "from torch.utils.data import DataLoader, Dataset\n",
    "from torchvision import transforms\n",
    "from PIL import Image\n"
   ]
  },
  {
   "cell_type": "code",
   "execution_count": 14,
   "id": "1a50b407-e2c3-488d-aaec-ba2a57a3734d",
   "metadata": {},
   "outputs": [],
   "source": [
    "# params\n",
    "dataset_path = 'archive/images'\n",
    "dataset_path2 = 'ar1'\n",
    "\n",
    "img_height, img_width = 150, 150\n",
    "batch_size = 32\n",
    "epochs = 20\n",
    "\n",
    "data = []\n",
    "labels = []"
   ]
  },
  {
   "cell_type": "code",
   "execution_count": 15,
   "id": "cf7298db-b30b-43d4-bddb-abf5cc708a30",
   "metadata": {},
   "outputs": [],
   "source": [
    "#phone\n",
    "for filename in os.listdir(dataset_path):\n",
    "    if filename.lower().endswith(('.png', '.jpg', '.jpeg')):\n",
    "        data.append(os.path.join(dataset_path, filename))\n",
    "        labels.append(1)"
   ]
  },
  {
   "cell_type": "code",
   "execution_count": 16,
   "id": "e471ed98-a8ac-40cd-b86d-2e1877f4553d",
   "metadata": {},
   "outputs": [],
   "source": [
    "#not \n",
    "for filename in os.listdir(dataset_path2):\n",
    "    if filename.lower().endswith(('.png', '.jpg', '.jpeg')):\n",
    "        data.append(os.path.join(dataset_path2, filename))\n",
    "        labels.append(0)  "
   ]
  },
  {
   "cell_type": "code",
   "execution_count": 17,
   "id": "f3e5d13c-ba72-4718-8db0-967625a53b09",
   "metadata": {},
   "outputs": [],
   "source": [
    "train_data, val_data, train_labels, val_labels = train_test_split(\n",
    "    data, labels, test_size=0.2, random_state=42\n",
    ")"
   ]
  },
  {
   "cell_type": "code",
   "execution_count": 18,
   "id": "de76b6cc-ce5a-42c9-9d07-eb632c0fc39e",
   "metadata": {},
   "outputs": [
    {
     "name": "stdout",
     "output_type": "stream",
     "text": [
      "Training samples: 400, Validation samples: 100\n"
     ]
    }
   ],
   "source": [
    "print(f\"Training samples: {len(train_data)}, Validation samples: {len(val_data)}\")"
   ]
  },
  {
   "cell_type": "code",
   "execution_count": 19,
   "id": "fe1a9a05-ff3f-4b40-838c-514e81b46123",
   "metadata": {},
   "outputs": [],
   "source": [
    "class CustomDataset(Dataset):\n",
    "    def __init__(self, image_paths, labels, transform=None):\n",
    "        self.image_paths = image_paths\n",
    "        self.labels = labels\n",
    "        self.transform = transform\n",
    "\n",
    "    def __len__(self):\n",
    "        return len(self.image_paths)\n",
    "\n",
    "    def __getitem__(self, idx):\n",
    "        img_path = self.image_paths[idx]\n",
    "        image = Image.open(img_path).convert('RGB')\n",
    "        label = self.labels[idx]\n",
    "        \n",
    "        if self.transform:\n",
    "            image = self.transform(image)\n",
    "        \n",
    "        return image, label\n",
    "\n",
    "# Трансформации для предобработки изображений\n",
    "transform = transforms.Compose([\n",
    "    transforms.Resize((img_height, img_width)),\n",
    "    transforms.ToTensor(),\n",
    "    transforms.Normalize([0.485, 0.456, 0.406], [0.229, 0.224, 0.225])\n",
    "])\n",
    "\n",
    "train_dataset = CustomDataset(train_data, train_labels, transform=transform)\n",
    "val_dataset = CustomDataset(val_data, val_labels, transform=transform)\n",
    "\n",
    "train_loader = DataLoader(train_dataset, batch_size=batch_size, shuffle=True)\n",
    "val_loader = DataLoader(val_dataset, batch_size=batch_size, shuffle=False)\n"
   ]
  },
  {
   "cell_type": "code",
   "execution_count": 20,
   "id": "317d884f-f5c8-4de1-b4fe-eaca2841a8a4",
   "metadata": {},
   "outputs": [],
   "source": [
    "import torch.nn.functional as F\n",
    "\n",
    "class CustomCNN(nn.Module):\n",
    "    def __init__(self, layers):\n",
    "        super(CustomCNN, self).__init__()\n",
    "        self.layers = nn.ModuleList()\n",
    "        input_channels = 3  # Используем 3 канала (RGB)\n",
    "\n",
    "        for output_channels in layers:\n",
    "            self.layers.append(nn.Conv2d(input_channels, output_channels, kernel_size=3, padding=1))\n",
    "            self.layers.append(nn.ReLU())\n",
    "            self.layers.append(nn.MaxPool2d(2))\n",
    "            input_channels = output_channels\n",
    "\n",
    "        self.classifier = nn.Sequential(\n",
    "            nn.Flatten(),\n",
    "            nn.Linear(input_channels * (img_height // 2**len(layers))**2, 128),\n",
    "            nn.ReLU(),\n",
    "            nn.Linear(128, 2)  # Используем 2 выхода для бинарной классификации\n",
    "        )\n",
    "\n",
    "    def forward(self, x):\n",
    "        for layer in self.layers:\n",
    "            x = layer(x)\n",
    "        x = self.classifier(x)\n",
    "        return x"
   ]
  },
  {
   "cell_type": "code",
   "execution_count": 21,
   "id": "62c8c4f4-b52c-4b59-ad44-1477078e41fb",
   "metadata": {},
   "outputs": [],
   "source": [
    "model = CustomCNN([64, 128])\n",
    "optimizer = optim.Adam(model.parameters(), lr=0.001)\n",
    "criterion = nn.CrossEntropyLoss()"
   ]
  },
  {
   "cell_type": "code",
   "execution_count": 22,
   "id": "71577887-27f4-4012-bfc5-b80c7a1e0f23",
   "metadata": {},
   "outputs": [],
   "source": [
    "def train_and_validate(model, train_loader, val_loader, optimizer, criterion, epochs):\n",
    "    model.train()\n",
    "    for epoch in range(epochs):\n",
    "        for inputs, labels in train_loader:\n",
    "            optimizer.zero_grad()\n",
    "            outputs = model(inputs)\n",
    "            loss = criterion(outputs, labels)\n",
    "            loss.backward()\n",
    "            optimizer.step()\n",
    "\n",
    "        print(f'Epoch {epoch + 1}/{epochs} training complete.')\n",
    "\n",
    "    model.eval()\n",
    "    with torch.no_grad():\n",
    "        val_loss = 0\n",
    "        correct = 0\n",
    "        total = 0\n",
    "        for inputs, labels in val_loader:\n",
    "            outputs = model(inputs)\n",
    "            val_loss += criterion(outputs, labels).item()\n",
    "            _, predicted = torch.max(outputs.data, 1)\n",
    "            total += labels.size(0)\n",
    "            correct += (predicted == labels).sum().item()\n",
    "\n",
    "        val_accuracy = 100 * correct / total\n",
    "        print(f'Validation Accuracy: {val_accuracy:.2f}%')\n",
    "\n",
    "    return model\n"
   ]
  },
  {
   "cell_type": "code",
   "execution_count": 23,
   "id": "ffffd74f-56ff-44e6-a1e5-0be700c21a99",
   "metadata": {},
   "outputs": [
    {
     "name": "stdout",
     "output_type": "stream",
     "text": [
      "Epoch 1/20 training complete.\n",
      "Epoch 2/20 training complete.\n",
      "Epoch 3/20 training complete.\n",
      "Epoch 4/20 training complete.\n",
      "Epoch 5/20 training complete.\n",
      "Epoch 6/20 training complete.\n",
      "Epoch 7/20 training complete.\n",
      "Epoch 8/20 training complete.\n",
      "Epoch 9/20 training complete.\n",
      "Epoch 10/20 training complete.\n",
      "Epoch 11/20 training complete.\n",
      "Epoch 12/20 training complete.\n",
      "Epoch 13/20 training complete.\n",
      "Epoch 14/20 training complete.\n",
      "Epoch 15/20 training complete.\n",
      "Epoch 16/20 training complete.\n",
      "Epoch 17/20 training complete.\n",
      "Epoch 18/20 training complete.\n",
      "Epoch 19/20 training complete.\n",
      "Epoch 20/20 training complete.\n",
      "Validation Accuracy: 72.00%\n"
     ]
    }
   ],
   "source": [
    "# Обучение модели\n",
    "final_model = train_and_validate(model, train_loader, val_loader, optimizer, criterion, epochs=epochs)\n"
   ]
  },
  {
   "cell_type": "code",
   "execution_count": 37,
   "id": "9603d801-9ad1-4070-8b84-e54e1b4f1772",
   "metadata": {},
   "outputs": [],
   "source": [
    "image_path = 'photo_3_2024-06-19_14-39-11.jpg'"
   ]
  },
  {
   "cell_type": "code",
   "execution_count": 38,
   "id": "ff3679c2-de86-4e54-9bcb-68434e50c94b",
   "metadata": {},
   "outputs": [],
   "source": [
    "from PIL import Image\n",
    "from torchvision import transforms\n",
    "\n",
    "transform = transforms.Compose([\n",
    "    transforms.Resize((img_height, img_width)),\n",
    "    transforms.ToTensor(),\n",
    "    transforms.Normalize([0.485, 0.456, 0.406], [0.229, 0.224, 0.225])\n",
    "])\n",
    "\n",
    "def preprocess_image(image_path):\n",
    "    image = Image.open(image_path).convert('RGB')\n",
    "    image = transform(image)\n",
    "    image = image.unsqueeze(0)  # Добавляем размерность пакета\n",
    "    return image"
   ]
  },
  {
   "cell_type": "code",
   "execution_count": 39,
   "id": "580604d3-0967-4caa-bd4d-6d48b90c135a",
   "metadata": {},
   "outputs": [],
   "source": [
    "def predict_image(model, image_path):\n",
    "    image = preprocess_image(image_path)\n",
    "    with torch.no_grad():\n",
    "        outputs = model(image)\n",
    "        _, predicted = torch.max(outputs.data, 1)\n",
    "    return predicted.item()\n"
   ]
  },
  {
   "cell_type": "code",
   "execution_count": 40,
   "id": "cab44c35-42dc-4135-92c4-4d85d65c98d6",
   "metadata": {},
   "outputs": [
    {
     "name": "stdout",
     "output_type": "stream",
     "text": [
      "Prediction: No phone\n"
     ]
    }
   ],
   "source": [
    "prediction = predict_image(model, image_path)\n",
    "predicted_class = 'Phone' if prediction == 1 else 'No phone'\n",
    "print(f'Prediction: {predicted_class}')"
   ]
  },
  {
   "cell_type": "code",
   "execution_count": 41,
   "id": "ac9dadaf-b3c7-4954-810c-444ac318d457",
   "metadata": {},
   "outputs": [],
   "source": [
    "torch.save(final_model.state_dict(), 'final_best_model.pth')"
   ]
  },
  {
   "cell_type": "code",
   "execution_count": null,
   "id": "093d8bc4-26ee-4f3d-9d5d-baaeeffe06b7",
   "metadata": {},
   "outputs": [],
   "source": []
  }
 ],
 "metadata": {
  "kernelspec": {
   "display_name": "Python 3 (ipykernel)",
   "language": "python",
   "name": "python3"
  },
  "language_info": {
   "codemirror_mode": {
    "name": "ipython",
    "version": 3
   },
   "file_extension": ".py",
   "mimetype": "text/x-python",
   "name": "python",
   "nbconvert_exporter": "python",
   "pygments_lexer": "ipython3",
   "version": "3.11.7"
  }
 },
 "nbformat": 4,
 "nbformat_minor": 5
}
