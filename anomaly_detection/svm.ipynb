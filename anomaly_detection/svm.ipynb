{
 "cells": [
  {
   "cell_type": "code",
   "execution_count": 1,
   "id": "23cb4b0b-b6cf-420b-9a42-d4f01c8c535f",
   "metadata": {},
   "outputs": [],
   "source": [
    "import os\n",
    "import cv2\n",
    "import numpy as np\n",
    "from sklearn import svm\n",
    "from sklearn.preprocessing import StandardScaler\n"
   ]
  },
  {
   "cell_type": "code",
   "execution_count": 2,
   "id": "80023672-0e79-4f84-9c5e-19d9c09ea0b0",
   "metadata": {},
   "outputs": [],
   "source": [
    "# Загрузка изображений из директории\n",
    "def load_images_from_directory(directory, target_size=(128, 128)):\n",
    "    images = []\n",
    "    for filename in os.listdir(directory):\n",
    "        if filename.endswith(\".png\") or filename.endswith(\".jpg\") or filename.endswith(\".jpeg\"):\n",
    "            img_path = os.path.join(directory, filename)\n",
    "            img = cv2.imread(img_path)\n",
    "            if img is not None:\n",
    "                # Масштабируем изображение к нужному размеру\n",
    "                img_resized = cv2.resize(img, target_size)\n",
    "                img_gray = cv2.cvtColor(img_resized, cv2.COLOR_BGR2GRAY)  # Преобразуем в градации серого\n",
    "                images.append(img_gray.flatten())  # Преобразуем изображение в одномерный массив\n",
    "    images = np.array(images)\n",
    "    return images"
   ]
  },
  {
   "cell_type": "code",
   "execution_count": 3,
   "id": "7247e2d4-0965-49e9-a8c2-e5e91d33a9ed",
   "metadata": {},
   "outputs": [],
   "source": [
    "# Обучение One-Class SVM на нормальных данных\n",
    "def train_one_class_svm(normal_data):\n",
    "    scaler = StandardScaler()\n",
    "    normal_data_scaled = scaler.fit_transform(normal_data)\n",
    "\n",
    "    # Обучение модели One-Class SVM\n",
    "    model = svm.OneClassSVM(gamma='auto', kernel='rbf', nu=0.1)  # nu — это параметр для управления уровнем аномалий\n",
    "    model.fit(normal_data_scaled)\n",
    "\n",
    "    return model, scaler"
   ]
  },
  {
   "cell_type": "code",
   "execution_count": 4,
   "id": "4bb48c23-292d-4593-8cab-936112ab5b42",
   "metadata": {},
   "outputs": [],
   "source": [
    "# Проверка изображения на аномалии\n",
    "def is_anomaly(image, model, scaler):\n",
    "    img_resized = cv2.resize(image, (128, 128))\n",
    "    img_gray = cv2.cvtColor(img_resized, cv2.COLOR_BGR2GRAY)\n",
    "    img_flattened = img_gray.flatten().reshape(1, -1)  # Преобразуем изображение в одномерный массив\n",
    "    img_scaled = scaler.transform(img_flattened)\n",
    "\n",
    "    prediction = model.predict(img_scaled)\n",
    "    return prediction == -1  # -1 означает аномалию\n"
   ]
  },
  {
   "cell_type": "code",
   "execution_count": 6,
   "id": "c2e71104-6102-4701-aa64-7faebbf07f6b",
   "metadata": {},
   "outputs": [
    {
     "name": "stdout",
     "output_type": "stream",
     "text": [
      "Аномалия обнаружена на изображении: object3_new\\21.08.2024_10.27.20.png\n",
      "Аномалия обнаружена на изображении: object3_new\\21.08.2024_10.28.17.png\n",
      "Аномалия обнаружена на изображении: object3_new\\21.08.2024_10.29.14.png\n",
      "Аномалия обнаружена на изображении: object3_new\\21.08.2024_10.31.09.png\n",
      "Аномалия обнаружена на изображении: object3_new\\21.08.2024_10.35.54.png\n",
      "Аномалия обнаружена на изображении: object3_new\\21.08.2024_10.36.52.png\n",
      "Аномалия обнаружена на изображении: object3_new\\21.08.2024_10.37.49.png\n",
      "Аномалия обнаружена на изображении: object3_new\\21.08.2024_10.38.46.png\n",
      "Аномалия обнаружена на изображении: object3_new\\21.08.2024_10.39.43.png\n",
      "Аномалия обнаружена на изображении: object3_new\\21.08.2024_10.45.28.png\n"
     ]
    }
   ],
   "source": [
    "# Основной код\n",
    "if __name__ == \"__main__\":\n",
    "    # Путь к данным\n",
    "    data_dir = \"object3_cut\"\n",
    "\n",
    "    # Загрузка нормальных изображений\n",
    "    normal_images = load_images_from_directory(data_dir)\n",
    "\n",
    "    # Обучение модели One-Class SVM\n",
    "    model, scaler = train_one_class_svm(normal_images)\n",
    "\n",
    "    # Проверка новых изображений на наличие аномалий\n",
    "    source_dir = \"object3_new\"\n",
    "    for filename in os.listdir(source_dir):\n",
    "        if filename.endswith(\".png\") or filename.endswith(\".jpg\") or filename.endswith(\".jpeg\"):\n",
    "            img_path = os.path.join(source_dir, filename)\n",
    "            img = cv2.imread(img_path)\n",
    "            if img is None:\n",
    "                continue\n",
    "\n",
    "            if is_anomaly(img, model, scaler):\n",
    "                print(f\"Аномалия обнаружена на изображении: {img_path}\")\n",
    "            else:\n",
    "                print(f\"Все в порядке на изображении: {img_path}\")"
   ]
  },
  {
   "cell_type": "code",
   "execution_count": null,
   "id": "3969c052-4204-4029-a701-f3b7387f5ca7",
   "metadata": {},
   "outputs": [],
   "source": []
  }
 ],
 "metadata": {
  "kernelspec": {
   "display_name": "Python 3 (ipykernel)",
   "language": "python",
   "name": "python3"
  },
  "language_info": {
   "codemirror_mode": {
    "name": "ipython",
    "version": 3
   },
   "file_extension": ".py",
   "mimetype": "text/x-python",
   "name": "python",
   "nbconvert_exporter": "python",
   "pygments_lexer": "ipython3",
   "version": "3.11.7"
  }
 },
 "nbformat": 4,
 "nbformat_minor": 5
}
