{
 "cells": [
  {
   "cell_type": "code",
   "execution_count": 23,
   "id": "3bb43a8b-bafc-42e8-a015-09c4495be83c",
   "metadata": {},
   "outputs": [],
   "source": [
    "from sklearn.cluster import KMeans\n",
    "from sklearn.metrics import pairwise_distances_argmin_min\n",
    "import os\n",
    "os.environ[\"OMP_NUM_THREADS\"] = \"1\"\n",
    "import cv2\n",
    "import numpy as np"
   ]
  },
  {
   "cell_type": "code",
   "execution_count": 24,
   "id": "37459aa0-5209-4d45-9aae-e30cd7745520",
   "metadata": {},
   "outputs": [],
   "source": [
    "# Загрузка изображений из директории\n",
    "def load_images_from_directory(directory, target_size=(128, 128)):\n",
    "    images = []\n",
    "    for filename in os.listdir(directory):\n",
    "        if filename.endswith(\".png\") or filename.endswith(\".jpg\") or filename.endswith(\".jpeg\"):\n",
    "            img_path = os.path.join(directory, filename)\n",
    "            img = cv2.imread(img_path)\n",
    "            if img is not None:\n",
    "                # Масштабируем изображение к нужному размеру\n",
    "                img_resized = cv2.resize(img, target_size)\n",
    "                img_gray = cv2.cvtColor(img_resized, cv2.COLOR_BGR2GRAY)  # Преобразуем в градации серого\n",
    "                images.append(img_gray.flatten())  # Преобразуем изображение в одномерный массив\n",
    "    images = np.array(images)\n",
    "    return images"
   ]
  },
  {
   "cell_type": "code",
   "execution_count": 25,
   "id": "591b1a64-480e-41f1-b772-b1c9a6716ca5",
   "metadata": {},
   "outputs": [],
   "source": [
    "# Обучение K-Means на нормальных данных\n",
    "def train_kmeans(normal_data, num_clusters=5):\n",
    "    # Обучаем модель KMeans\n",
    "    model = KMeans(n_clusters=num_clusters, n_init=10)\n",
    "    model.fit(normal_data)\n",
    "\n",
    "    return model\n"
   ]
  },
  {
   "cell_type": "code",
   "execution_count": 26,
   "id": "2175924c-91ac-485d-91ba-5fa3ef352579",
   "metadata": {},
   "outputs": [],
   "source": [
    "# Проверка изображения на аномалии\n",
    "def is_anomaly(image, model):\n",
    "    img_resized = cv2.resize(image, (128, 128))\n",
    "    img_gray = cv2.cvtColor(img_resized, cv2.COLOR_BGR2GRAY)\n",
    "    img_flattened = img_gray.flatten().reshape(1, -1)  # Преобразуем изображение в одномерный массив\n",
    "\n",
    "    closest_cluster, min_distances = pairwise_distances_argmin_min(img_flattened, model.cluster_centers_)\n",
    "    # Аномалия, если расстояние до ближайшего кластера превышает порог\n",
    "    return min_distances[0] > 1000  # Порог нужно выбрать экспериментально\n"
   ]
  },
  {
   "cell_type": "code",
   "execution_count": 28,
   "id": "990cc386-7d23-4e97-b1dc-4a939ac40d4b",
   "metadata": {},
   "outputs": [
    {
     "name": "stderr",
     "output_type": "stream",
     "text": [
      "C:\\Users\\Daria\\anaconda3\\Lib\\site-packages\\sklearn\\cluster\\_kmeans.py:1382: UserWarning: KMeans is known to have a memory leak on Windows with MKL, when there are less chunks than available threads. You can avoid it by setting the environment variable OMP_NUM_THREADS=1.\n",
      "  warnings.warn(\n"
     ]
    },
    {
     "name": "stdout",
     "output_type": "stream",
     "text": [
      "Аномалия обнаружена на изображении: object3_bad\\21.08.2024_11.20.07.png\n",
      "Аномалия обнаружена на изображении: object3_bad\\21.08.2024_11.29.39.png\n",
      "Аномалия обнаружена на изображении: object3_bad\\21.08.2024_11.30.36.png\n",
      "Аномалия обнаружена на изображении: object3_bad\\21.08.2024_11.32.31.png\n",
      "Аномалия обнаружена на изображении: object3_bad\\21.08.2024_11.35.23.png\n",
      "Аномалия обнаружена на изображении: object3_bad\\21.08.2024_11.37.17.png\n",
      "Аномалия обнаружена на изображении: object3_bad\\21.08.2024_12.28.00.png\n",
      "Аномалия обнаружена на изображении: object3_bad\\21.08.2024_12.51.52.png\n"
     ]
    }
   ],
   "source": [
    "# Основной код\n",
    "if __name__ == \"__main__\":\n",
    "    # Путь к данным\n",
    "    data_dir = \"object3_cut\"\n",
    "\n",
    "    # Загрузка нормальных изображений\n",
    "    normal_images = load_images_from_directory(data_dir)\n",
    "\n",
    "    # Обучение модели KMeans\n",
    "    kmeans_model = train_kmeans(normal_images)\n",
    "\n",
    "    # Проверка новых изображений на наличие аномалий\n",
    "    source_dir = \"object3_bad\"\n",
    "    for filename in os.listdir(source_dir):\n",
    "        if filename.endswith(\".png\") or filename.endswith(\".jpg\") or filename.endswith(\".jpeg\"):\n",
    "            img_path = os.path.join(source_dir, filename)\n",
    "            img = cv2.imread(img_path)\n",
    "            if img is None:\n",
    "                continue\n",
    "\n",
    "            if is_anomaly(img, kmeans_model):\n",
    "                print(f\"Аномалия обнаружена на изображении: {img_path}\")\n",
    "            else:\n",
    "                print(f\"Все в порядке на изображении: {img_path}\")"
   ]
  },
  {
   "cell_type": "code",
   "execution_count": null,
   "id": "534d4661-3c96-4c04-88a2-c5c0e679c04a",
   "metadata": {},
   "outputs": [],
   "source": []
  },
  {
   "cell_type": "code",
   "execution_count": null,
   "id": "78684c6c-18dd-4cb7-a1e1-f500d0e489af",
   "metadata": {},
   "outputs": [],
   "source": []
  }
 ],
 "metadata": {
  "kernelspec": {
   "display_name": "Python 3 (ipykernel)",
   "language": "python",
   "name": "python3"
  },
  "language_info": {
   "codemirror_mode": {
    "name": "ipython",
    "version": 3
   },
   "file_extension": ".py",
   "mimetype": "text/x-python",
   "name": "python",
   "nbconvert_exporter": "python",
   "pygments_lexer": "ipython3",
   "version": "3.11.7"
  }
 },
 "nbformat": 4,
 "nbformat_minor": 5
}
