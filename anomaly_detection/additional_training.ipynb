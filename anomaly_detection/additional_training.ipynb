{
 "cells": [
  {
   "cell_type": "code",
   "execution_count": 1,
   "id": "7a7c78b7-1311-4272-a669-0ed7f1a216a2",
   "metadata": {},
   "outputs": [],
   "source": [
    "import os\n",
    "import cv2\n",
    "import numpy as np\n",
    "from sklearn.svm import OneClassSVM\n",
    "from sklearn.preprocessing import StandardScaler\n",
    "from sklearn.cluster import KMeans\n",
    "import matplotlib.pyplot as plt"
   ]
  },
  {
   "cell_type": "code",
   "execution_count": 8,
   "id": "ccf0a851-7638-43f3-b247-0f684b30feb8",
   "metadata": {},
   "outputs": [],
   "source": [
    "# Функция для обрезки изображения до нужной области\n",
    "def crop_image(img, crop_region):\n",
    "    x, y, w, h = crop_region\n",
    "    return img[y:y+h, x:x+w]"
   ]
  },
  {
   "cell_type": "code",
   "execution_count": 9,
   "id": "2684ca0b-efad-423f-875d-af2c121c5cb7",
   "metadata": {},
   "outputs": [],
   "source": [
    "\n",
    "# Загрузка изображений из директории с обрезкой\n",
    "def load_images_from_directory(directory, crop_region, target_size=(128, 128)):\n",
    "    images = []\n",
    "    image_paths = []\n",
    "    for filename in os.listdir(directory):\n",
    "        if filename.endswith(\".png\") or filename.endswith(\".jpg\") or filename.endswith(\".jpeg\"):\n",
    "            img_path = os.path.join(directory, filename)\n",
    "            img = cv2.imread(img_path)\n",
    "            if img is not None:\n",
    "                # Обрезаем изображение до нужной области\n",
    "                img_cropped = crop_image(img, crop_region)\n",
    "                # Масштабируем изображение к нужному размеру\n",
    "                img_resized = cv2.resize(img_cropped, target_size)\n",
    "                img_gray = cv2.cvtColor(img_resized, cv2.COLOR_BGR2GRAY)  # Преобразуем в градации серого\n",
    "                images.append(img_gray.flatten())  # Преобразуем изображение в одномерный массив\n",
    "                image_paths.append(img_path)\n",
    "    return np.array(images), image_paths"
   ]
  },
  {
   "cell_type": "code",
   "execution_count": 3,
   "id": "45cd98aa-e7a2-4208-884a-9eb8b91f50af",
   "metadata": {},
   "outputs": [],
   "source": [
    "# Обучение начальной модели One-Class SVM на нормальных данных\n",
    "def train_one_class_svm(normal_data):\n",
    "    scaler = StandardScaler()\n",
    "    normal_data_scaled = scaler.fit_transform(normal_data)\n",
    "\n",
    "    # Обучение модели One-Class SVM\n",
    "    model = OneClassSVM(gamma='auto', kernel='rbf', nu=0.1)\n",
    "    model.fit(normal_data_scaled)\n",
    "\n",
    "    return model, scaler"
   ]
  },
  {
   "cell_type": "code",
   "execution_count": 4,
   "id": "1c6de6f1-44e7-48d4-9ce6-ac38ef9341ce",
   "metadata": {},
   "outputs": [],
   "source": [
    "# Проверка изображения на аномалии\n",
    "def is_anomaly(image, model, scaler):\n",
    "    img_scaled = scaler.transform(image.reshape(1, -1))  # Масштабируем изображение\n",
    "    prediction = model.predict(img_scaled)\n",
    "    return prediction == -1  # -1 означает аномалию\n"
   ]
  },
  {
   "cell_type": "code",
   "execution_count": 5,
   "id": "6e1d476a-97bc-4ec7-8cd2-6e71231a031d",
   "metadata": {},
   "outputs": [],
   "source": [
    "# Функция для отображения изображения\n",
    "def display_image(image_path):\n",
    "    img = cv2.imread(image_path)\n",
    "    plt.imshow(cv2.cvtColor(img, cv2.COLOR_BGR2RGB))\n",
    "    plt.axis('off')\n",
    "    plt.show()"
   ]
  },
  {
   "cell_type": "code",
   "execution_count": 6,
   "id": "5722b530-78d3-4634-b412-42ee0bc6349a",
   "metadata": {},
   "outputs": [],
   "source": [
    "# Активное обучение: пользователь помечает аномалии\n",
    "def active_learning(anomaly_images, model, scaler):\n",
    "    corrected_labels = []\n",
    "    corrected_data = []\n",
    "    \n",
    "    for img_path, img in anomaly_images:\n",
    "        print(f\"Проверка изображения: {img_path}\")\n",
    "        display_image(img_path)\n",
    "        \n",
    "        # Пользовательская пометка\n",
    "        label = input(\"Является ли изображение аномалией? (1 - да, 0 - нет): \")\n",
    "        if label == '1':\n",
    "            corrected_labels.append(1)  # Аномалия\n",
    "        else:\n",
    "            corrected_labels.append(0)  # Не аномалия\n",
    "        corrected_data.append(img)\n",
    "    \n",
    "    return np.array(corrected_data), np.array(corrected_labels)"
   ]
  },
  {
   "cell_type": "code",
   "execution_count": 7,
   "id": "0ccd4852-6d67-45a6-be26-96fed1cbd72b",
   "metadata": {},
   "outputs": [],
   "source": [
    "# Дообучение модели на новых данных с пользовательскими метками\n",
    "def retrain_model(corrected_data, corrected_labels, model, scaler):\n",
    "    # Преобразуем данные в векторы признаков и масштабируем\n",
    "    corrected_data_scaled = scaler.transform(corrected_data)\n",
    "\n",
    "    # Тренируем новую модель, используя корректированные данные\n",
    "    kmeans = KMeans(n_clusters=2)  # Кластеризация на 2 кластера (нормальные и аномальные данные)\n",
    "    kmeans.fit(corrected_data_scaled)\n",
    "\n",
    "    return kmeans\n"
   ]
  },
  {
   "cell_type": "code",
   "execution_count": 10,
   "id": "c269585a-0c0d-482c-b815-2e1238bd4ac6",
   "metadata": {},
   "outputs": [
    {
     "ename": "error",
     "evalue": "OpenCV(4.10.0) D:\\a\\opencv-python\\opencv-python\\opencv\\modules\\imgproc\\src\\resize.cpp:4152: error: (-215:Assertion failed) !ssize.empty() in function 'cv::resize'\n",
     "output_type": "error",
     "traceback": [
      "\u001b[1;31m---------------------------------------------------------------------------\u001b[0m",
      "\u001b[1;31merror\u001b[0m                                     Traceback (most recent call last)",
      "Cell \u001b[1;32mIn[10], line 13\u001b[0m\n\u001b[0;32m     10\u001b[0m anomaly_data_dir \u001b[38;5;241m=\u001b[39m \u001b[38;5;124m\"\u001b[39m\u001b[38;5;124mobject3_bad\u001b[39m\u001b[38;5;124m\"\u001b[39m\n\u001b[0;32m     12\u001b[0m \u001b[38;5;66;03m# Шаг 1: Загрузка нормальных изображений и обучение модели One-Class SVM\u001b[39;00m\n\u001b[1;32m---> 13\u001b[0m normal_images, _ \u001b[38;5;241m=\u001b[39m load_images_from_directory(normal_data_dir, crop_region)\n\u001b[0;32m     14\u001b[0m model, scaler \u001b[38;5;241m=\u001b[39m train_one_class_svm(normal_images)\n\u001b[0;32m     16\u001b[0m \u001b[38;5;66;03m# Шаг 2: Проверка на неправильных изображениях\u001b[39;00m\n",
      "Cell \u001b[1;32mIn[9], line 13\u001b[0m, in \u001b[0;36mload_images_from_directory\u001b[1;34m(directory, crop_region, target_size)\u001b[0m\n\u001b[0;32m     11\u001b[0m img_cropped \u001b[38;5;241m=\u001b[39m crop_image(img, crop_region)\n\u001b[0;32m     12\u001b[0m \u001b[38;5;66;03m# Масштабируем изображение к нужному размеру\u001b[39;00m\n\u001b[1;32m---> 13\u001b[0m img_resized \u001b[38;5;241m=\u001b[39m cv2\u001b[38;5;241m.\u001b[39mresize(img_cropped, target_size)\n\u001b[0;32m     14\u001b[0m img_gray \u001b[38;5;241m=\u001b[39m cv2\u001b[38;5;241m.\u001b[39mcvtColor(img_resized, cv2\u001b[38;5;241m.\u001b[39mCOLOR_BGR2GRAY)  \u001b[38;5;66;03m# Преобразуем в градации серого\u001b[39;00m\n\u001b[0;32m     15\u001b[0m images\u001b[38;5;241m.\u001b[39mappend(img_gray\u001b[38;5;241m.\u001b[39mflatten())  \u001b[38;5;66;03m# Преобразуем изображение в одномерный массив\u001b[39;00m\n",
      "\u001b[1;31merror\u001b[0m: OpenCV(4.10.0) D:\\a\\opencv-python\\opencv-python\\opencv\\modules\\imgproc\\src\\resize.cpp:4152: error: (-215:Assertion failed) !ssize.empty() in function 'cv::resize'\n"
     ]
    }
   ],
   "source": [
    "# Основной код\n",
    "if __name__ == \"__main__\":\n",
    "    # Определяем регион обрезки: (x, y, width, height)\n",
    "    crop_region = (1390, 180, 624, 512)\n",
    "\n",
    "    # Путь к нормальным данным (правильные изображения)\n",
    "    normal_data_dir = \"object3_cut\"\n",
    "    \n",
    "    # Путь к неправильным данным (для активного обучения)\n",
    "    anomaly_data_dir = \"object3_bad\"\n",
    "\n",
    "    # Шаг 1: Загрузка нормальных изображений и обучение модели One-Class SVM\n",
    "    normal_images, _ = load_images_from_directory(normal_data_dir, crop_region)\n",
    "    model, scaler = train_one_class_svm(normal_images)\n",
    "\n",
    "    # Шаг 2: Проверка на неправильных изображениях\n",
    "    anomaly_images, anomaly_image_paths = load_images_from_directory(anomaly_data_dir, crop_region)\n",
    "    detected_anomalies = []\n",
    "\n",
    "    for img, img_path in zip(anomaly_images, anomaly_image_paths):\n",
    "        if is_anomaly(img, model, scaler):\n",
    "            detected_anomalies.append((img_path, img))\n",
    "\n",
    "    # Шаг 3: Активное обучение - пользователь помечает аномалии\n",
    "    corrected_data, corrected_labels = active_learning(detected_anomalies, model, scaler)\n",
    "\n",
    "    # Шаг 4: Дообучение модели с учётом пользовательских меток\n",
    "    final_model = retrain_model(corrected_data, corrected_labels, model, scaler)\n",
    "\n",
    "    print(\"Обучение завершено. Модель скорректирована с учётом пользовательских данных.\")"
   ]
  },
  {
   "cell_type": "code",
   "execution_count": null,
   "id": "58d7751a-334e-48b4-9c40-224b8d8cbc0d",
   "metadata": {},
   "outputs": [],
   "source": []
  },
  {
   "cell_type": "code",
   "execution_count": null,
   "id": "1e4ed796-72a8-4cc0-8d65-6d85731205cc",
   "metadata": {},
   "outputs": [],
   "source": []
  },
  {
   "cell_type": "code",
   "execution_count": null,
   "id": "c93ea540-c1c0-40b7-9bf6-f6b9c246ea92",
   "metadata": {},
   "outputs": [],
   "source": []
  }
 ],
 "metadata": {
  "kernelspec": {
   "display_name": "Python 3 (ipykernel)",
   "language": "python",
   "name": "python3"
  },
  "language_info": {
   "codemirror_mode": {
    "name": "ipython",
    "version": 3
   },
   "file_extension": ".py",
   "mimetype": "text/x-python",
   "name": "python",
   "nbconvert_exporter": "python",
   "pygments_lexer": "ipython3",
   "version": "3.11.7"
  }
 },
 "nbformat": 4,
 "nbformat_minor": 5
}
